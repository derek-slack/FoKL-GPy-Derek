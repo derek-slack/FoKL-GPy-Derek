{
 "cells": [
  {
   "cell_type": "code",
   "execution_count": 10,
   "metadata": {},
   "outputs": [],
   "source": [
    "__all__ = [\"Math\", \"Add\", \"Sub\"]\n",
    "class Math:\n",
    "    def __init__(self, a, b):\n",
    "        self.a = a\n",
    "        self.b = b\n",
    "    def sample(self):\n",
    "        print(\"nothing selected\")\n",
    "        pass\n",
    "\n",
    "    def create_operation(self, dic, operation_name):\n",
    "        # Check if the operation is in the dictionary and create an instance if so\n",
    "        if operation_name in dic:\n",
    "            operation_class = dic[operation_name]\n",
    "            return operation_class(self.a, self.b)\n",
    "        else:\n",
    "            print(f\"Operation '{operation_name}' not found.\")\n",
    "            return None\n",
    "\n",
    "\n",
    "class Add(Math):\n",
    "    def __init__(self, a, b):\n",
    "        super().__init__(a, b)\n",
    "        self.a = a\n",
    "        self.b = b\n",
    "\n",
    "    def sample(self):\n",
    "        return self.a+self.b\n",
    "\n",
    "\n",
    "class Sub(Math):\n",
    "    def __init__(self, a, b):\n",
    "        super().__init__(a, b)\n",
    "        self.a = a\n",
    "        self.b = b\n",
    "\n",
    "    def sample(self):\n",
    "        return self.a-self.b"
   ]
  },
  {
   "cell_type": "code",
   "execution_count": 12,
   "metadata": {},
   "outputs": [],
   "source": [
    "from abc import ABC, abstractmethod\n",
    "class clear(Math):\n",
    "    def __init__(a, b):\n",
    "        super().__init__(a, b)\n",
    "        self.a = a\n",
    "        self.b = b\n",
    "\n",
    "    def clean():\n",
    "        pass \n",
    "\n",
    "    \n"
   ]
  },
  {
   "cell_type": "code",
   "execution_count": 14,
   "metadata": {},
   "outputs": [
    {
     "ename": "ModuleNotFoundError",
     "evalue": "No module named 'Math'",
     "output_type": "error",
     "traceback": [
      "\u001b[1;31m---------------------------------------------------------------------------\u001b[0m",
      "\u001b[1;31mModuleNotFoundError\u001b[0m                       Traceback (most recent call last)",
      "Cell \u001b[1;32mIn[14], line 1\u001b[0m\n\u001b[1;32m----> 1\u001b[0m \u001b[38;5;28;01mimport\u001b[39;00m \u001b[38;5;21;01mMath\u001b[39;00m\u001b[38;5;241m,\u001b[39m \u001b[38;5;21;01mAdd\u001b[39;00m\u001b[38;5;241m,\u001b[39m \u001b[38;5;21;01mSub\u001b[39;00m\n\u001b[0;32m      2\u001b[0m \u001b[38;5;28;01mdef\u001b[39;00m \u001b[38;5;21mmain\u001b[39m(): \n\u001b[0;32m      3\u001b[0m     object1 \u001b[38;5;241m=\u001b[39m Math(\u001b[38;5;241m1\u001b[39m, \u001b[38;5;241m2\u001b[39m)\n",
      "\u001b[1;31mModuleNotFoundError\u001b[0m: No module named 'Math'"
     ]
    }
   ],
   "source": [
    "import Math, Add, Sub\n",
    "def main(): \n",
    "    object1 = Math(1, 2)\n",
    "\n",
    "    object1 = Math.clear()\n",
    "\n",
    "\n",
    "if __name__ == '__main__':\n",
    "    main()\n",
    "\n",
    "\n",
    "\n",
    "\n"
   ]
  }
 ],
 "metadata": {
  "kernelspec": {
   "display_name": "FoKL_Books",
   "language": "python",
   "name": "python3"
  },
  "language_info": {
   "codemirror_mode": {
    "name": "ipython",
    "version": 3
   },
   "file_extension": ".py",
   "mimetype": "text/x-python",
   "name": "python",
   "nbconvert_exporter": "python",
   "pygments_lexer": "ipython3",
   "version": "3.11.9"
  }
 },
 "nbformat": 4,
 "nbformat_minor": 2
}
